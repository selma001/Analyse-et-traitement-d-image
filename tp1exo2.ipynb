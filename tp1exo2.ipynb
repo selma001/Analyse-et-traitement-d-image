{
 "cells": [
  {
   "cell_type": "code",
   "execution_count": 1,
   "metadata": {},
   "outputs": [
    {
     "data": {
      "image/png": "[encoded data removed]",
      "text/plain": [
       "<Figure size 640x480 with 1 Axes>"
      ]
     },
     "metadata": {},
     "output_type": "display_data"
    }
   ],
   "source": [
    "import cv2\n",
    "import numpy as np\n",
    "from matplotlib import pyplot as plt\n",
    "import os\n",
    "\n",
    "#renvoie les coordonnées (x, y) du premier pixel blanc trouvé (en haut à gauche) et les coordonnées du dernier pixel blanc trouvé\n",
    "\n",
    "def first_last_pixels(img):\n",
    "    first = None\n",
    "    last = None\n",
    "    for y in range(img.shape[0]):\n",
    "        for x in range(img.shape[1]):\n",
    "            if img[y, x] == 255:  # le pixel blanc\n",
    "                if first is None:\n",
    "                    first = (x, y)\n",
    "                last = (x, y)\n",
    "    return first, last\n",
    "\n",
    "path = \"C:\\\\Users\\\\pc\\\\Desktop\\\\M1 IV\\\\TAI\\\\445\"\n",
    "first_image = None  \n",
    "# initialiser une variable pour enregistrer la premiere image\n",
    "\n",
    "for filename in os.listdir(path):\n",
    "    if filename.endswith('.png'):\n",
    "        img = cv2.imread(os.path.join(path, filename), 0)\n",
    "        if img is not None:\n",
    "            # trouver le premier et le dernier pixel blanc dans l'image courante\n",
    "            first, last = first_last_pixels(img)\n",
    "\n",
    "            if first is not None and last is not None:\n",
    "                # si c'est la premiere image, on la met dans la variable 'first_image\"\n",
    "                if first_image is None:\n",
    "                    first_image = cv2.cvtColor(img, cv2.COLOR_GRAY2BGR)\n",
    "\n",
    "                #desssiner des cercles dans les points\n",
    "                cv2.circle(first_image, first, 1, (255, 0, 0), -1)\n",
    "                cv2.circle(first_image, last, 1, (255, 0, 0), -1)\n",
    "\n",
    "#afficher la premiere image avec les 2 lignes\n",
    "plt.imshow(first_image)\n",
    "plt.show()"
   ]
  },
  {
   "cell_type": "code",
   "execution_count": 1,
   "metadata": {},
   "outputs": [
    {
     "name": "stdout",
     "output_type": "stream",
     "text": [
      "Le point blanc le plus haut à gauche a les coordonnées 177 88\n",
      "Le point blanc le plus bas à droite a les coordonnées 180 165\n"
     ]
    }
   ],
   "source": [
    "import cv2\n",
    "from matplotlib import pyplot as plt\n",
    "\n",
    "#Lire une image en niveaux de gris\n",
    "image = cv2.imread('test1.png', 0)\n",
    "\n",
    "#Trouver le point blanc le plus haut à gauche\n",
    "for j in range(image.shape[0]):\n",
    "    for i in range(image.shape[1]):\n",
    "        if image[j, i] == 255:\n",
    "            x_high_left, y_high_left = i, j\n",
    "            break\n",
    "    else:\n",
    "        continue\n",
    "    break\n",
    "\n",
    "#Trouver le point blanc le plus bas à droite\n",
    "for j in range(image.shape[0]-1, -1, -1):\n",
    "    for i in range(image.shape[1]-1, -1, -1):\n",
    "        if image[j, i] == 255:\n",
    "            x_low_right, y_low_right = i, j\n",
    "            break\n",
    "    else:\n",
    "        continue\n",
    "    break\n",
    "\n",
    "image_colored = cv2.cvtColor(image, cv2.COLOR_GRAY2BGR)\n",
    "\n",
    "#Dessiner un cercle autour des points trouvés\n",
    "radius = 1\n",
    "color = (0, 0, 255)  # Rouge en BGR\n",
    "thickness = 1  # épaisseur du cercle\n",
    "\n",
    "\n",
    "cv2.circle(image_colored, (x_high_left, y_high_left), radius, color, thickness)\n",
    "cv2.circle(image_colored, (x_low_right, y_low_right), radius, color, thickness)\n",
    "\n",
    "#afficher les coordoonnees des 2 points\n",
    "print('Le point blanc le plus haut à gauche a les coordonnées', x_high_left, y_high_left)\n",
    "print('Le point blanc le plus bas à droite a les coordonnées', x_low_right, y_low_right)\n",
    "\n",
    "\n",
    "#Afficher l'image modifiée\n",
    "\n",
    "cv2.imshow('Image avec les points', image_colored)\n",
    "cv2.waitKey(0)\n",
    "cv2.destroyAllWindows()"
   ]
  }
 ],
 "metadata": {
  "kernelspec": {
   "display_name": "Python 3",
   "language": "python",
   "name": "python3"
  },
  "language_info": {
   "codemirror_mode": {
    "name": "ipython",
    "version": 3
   },
   "file_extension": ".py",
   "mimetype": "text/x-python",
   "name": "python",
   "nbconvert_exporter": "python",
   "pygments_lexer": "ipython3",
   "version": "3.12.0"
  }
 },
 "nbformat": 4,
 "nbformat_minor": 2
}
