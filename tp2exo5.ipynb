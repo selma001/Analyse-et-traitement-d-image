{
 "cells": [
  {
   "cell_type": "code",
   "execution_count": null,
   "metadata": {},
   "outputs": [],
   "source": [
    "import cv2\n",
    "import matplotlib.pyplot as plt\n",
    "from skimage.morphology import skeletonize\n",
    "\n",
    "# Read the binary image\n",
    "binary_image = cv2.imread('path_to_your_image.jpg', cv2.IMREAD_GRAYSCALE)\n",
    "\n",
    "# Ensure the image is binary (0 or 255). If not, you might need to threshold it\n",
    "# _, binary_image = cv2.threshold(binary_image, 127, 255, cv2.THRESH_BINARY)\n",
    "\n",
    "# Convert binary image to boolean format\n",
    "binary_image_bool = binary_image == 255\n",
    "\n",
    "# Perform skeletonization\n",
    "skeletonized_image = skeletonize(binary_image_bool)\n",
    "\n",
    "# Plot the original and skeletonized images\n",
    "plt.figure(figsize=(8, 4))\n",
    "\n",
    "plt.subplot(121)\n",
    "plt.imshow(binary_image, cmap='gray')\n",
    "plt.title('Original Binary Image')\n",
    "plt.axis('off')\n",
    "\n",
    "plt.subplot(122)\n",
    "plt.imshow(skeletonized_image, cmap='gray')\n",
    "plt.title('Skeletonized Image')\n",
    "plt.axis('off')\n",
    "\n",
    "plt.tight_layout()\n",
    "plt.show()\n"
   ]
  }
 ],
 "metadata": {
  "language_info": {
   "name": "python"
  },
  "orig_nbformat": 4
 },
 "nbformat": 4,
 "nbformat_minor": 2
}
